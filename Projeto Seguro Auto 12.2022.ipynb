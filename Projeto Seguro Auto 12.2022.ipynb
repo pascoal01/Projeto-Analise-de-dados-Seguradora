{
 "cells": [
  {
   "cell_type": "markdown",
   "id": "31429fe9",
   "metadata": {},
   "source": [
    "<img data-cy=\"WrapperImage\" src=\"https://uipath.com/cdn-cgi/image/width=900,format=auto/https:////images.ctfassets.net/5965pury2lcm/49NUuv9jQZsQTE5QBPe1lJ/e3c6846e1312f59d045aac5a62fb2198/Insurance.jpg\" alt=\"Insurance\" class=\"BlogPost__Image\" loading=\"lazy\" width=\"800\" height=\"600\">\n",
    "\n",
    "\n",
    "# Seguradora Auto  - Auto Insurance dataset (still in progress) \n",
    "## (banco de dados retirados do Kaggle)\n",
    "\n",
    "https://www.kaggle.com/datasets/rupakroy/auto-insurance\n",
    "\n",
    "### Passo a passo desse projeto de dados :\n",
    "\n",
    "1. Conhecer o banco de dados\n",
    "2. Entendimento sobre a análise financeira no mercado de seguros\n",
    "3. Entendimento sobre os principais indicadores do setor de seguros\n",
    "4. Adoção de estratégias para geração de insights\n",
    "5. Extração/Obtenção de dados - Kaggle\n",
    "6. Ajuste de dados (tratamento/limpeza)\n",
    "7. Filtragem dos dados \n",
    "8. Análise exploratória\n",
    "\n",
    "### INTRODUÇÃO\n",
    "#### (introdução sobre seguradoras, panorama e tipo de análise)\n",
    "\n",
    "   * Fundamentos quantitativos: São aqueles que são medidos em números (os dados para esse projeto estão inseridos nessa categoria).\n",
    "\n",
    "   * Fundamentos Qualitativos: São fatores internos e externos que podem contribuir com a rentabilidade e crescimento da empresa, favorecendo seus ganhos financeiros, mas que também podem levar uma empresa ao prejuízo.\n",
    "\n",
    "Estratégias a serem utilizadas para geração de Insights\n",
    "\n",
    "* Total de Apólices por tipo de cobertura \n",
    "* Quantidade de  Clientes por Estado\n",
    "* Identificar quais são os produtos com mais clientes;\n",
    "* Identificar quais são os setores que tem um maior retorno;\n",
    "* Identificar quais são os Estados com mais clientes;\n",
    "* Quais topos de cobertura \n",
    "* Análise da variável 'Response', quais clientes possuem outro produto( ex. seguro de vida)\n",
    "* Receita mensal, por estado, gênero;\n",
    "* Media de meses desde último acionamento por gênero\n",
    "* Total de apólices por canal de venda\n",
    "* Analise da frequência da variavel 'Response', com a finalidade de saber: Quem possui ou não seguro Saúde\n",
    "   85% do dataset não ainda pode ser prospectado.\n",
    " "
   ]
  },
  {
   "cell_type": "code",
   "execution_count": 1,
   "id": "389659f1",
   "metadata": {},
   "outputs": [],
   "source": [
    "#Importando os módulos \n",
    "import pandas as pd\n",
    "import numpy as np\n",
    "import seaborn as sns\n",
    "import plotly.express as px\n",
    "import matplotlib.pyplot as plt\n",
    "from matplotlib.ticker import PercentFormatter\n",
    "import matplotlib"
   ]
  },
  {
   "cell_type": "code",
   "execution_count": 2,
   "id": "adb4f762",
   "metadata": {
    "scrolled": true
   },
   "outputs": [
    {
     "data": {
      "text/html": [
       "<div>\n",
       "<style scoped>\n",
       "    .dataframe tbody tr th:only-of-type {\n",
       "        vertical-align: middle;\n",
       "    }\n",
       "\n",
       "    .dataframe tbody tr th {\n",
       "        vertical-align: top;\n",
       "    }\n",
       "\n",
       "    .dataframe thead th {\n",
       "        text-align: right;\n",
       "    }\n",
       "</style>\n",
       "<table border=\"1\" class=\"dataframe\">\n",
       "  <thead>\n",
       "    <tr style=\"text-align: right;\">\n",
       "      <th></th>\n",
       "      <th>Customer</th>\n",
       "      <th>State</th>\n",
       "      <th>Customer Lifetime Value</th>\n",
       "      <th>Response</th>\n",
       "      <th>Coverage</th>\n",
       "      <th>EmploymentStatus</th>\n",
       "      <th>Gender</th>\n",
       "      <th>Income</th>\n",
       "      <th>Monthly Premium Auto</th>\n",
       "      <th>Months Since Last Claim</th>\n",
       "      <th>Months Since Policy Inception</th>\n",
       "      <th>Number of Policies</th>\n",
       "      <th>SalesChannel</th>\n",
       "      <th>Total Claim Amount</th>\n",
       "      <th>VehicleClass</th>\n",
       "    </tr>\n",
       "  </thead>\n",
       "  <tbody>\n",
       "    <tr>\n",
       "      <th>0</th>\n",
       "      <td>BU79786</td>\n",
       "      <td>Washington</td>\n",
       "      <td>2763.519279</td>\n",
       "      <td>No</td>\n",
       "      <td>Basic</td>\n",
       "      <td>Employed</td>\n",
       "      <td>F</td>\n",
       "      <td>56274</td>\n",
       "      <td>69</td>\n",
       "      <td>32</td>\n",
       "      <td>5</td>\n",
       "      <td>1</td>\n",
       "      <td>Agent</td>\n",
       "      <td>384.811147</td>\n",
       "      <td>Two-Door Car</td>\n",
       "    </tr>\n",
       "    <tr>\n",
       "      <th>1</th>\n",
       "      <td>QZ44356</td>\n",
       "      <td>Arizona</td>\n",
       "      <td>6979.535903</td>\n",
       "      <td>No</td>\n",
       "      <td>Extended</td>\n",
       "      <td>Unemployed</td>\n",
       "      <td>F</td>\n",
       "      <td>0</td>\n",
       "      <td>94</td>\n",
       "      <td>13</td>\n",
       "      <td>42</td>\n",
       "      <td>8</td>\n",
       "      <td>Agent</td>\n",
       "      <td>1131.464935</td>\n",
       "      <td>Four-Door Car</td>\n",
       "    </tr>\n",
       "    <tr>\n",
       "      <th>2</th>\n",
       "      <td>AI49188</td>\n",
       "      <td>Nevada</td>\n",
       "      <td>12887.431650</td>\n",
       "      <td>No</td>\n",
       "      <td>Premium</td>\n",
       "      <td>Employed</td>\n",
       "      <td>F</td>\n",
       "      <td>48767</td>\n",
       "      <td>108</td>\n",
       "      <td>18</td>\n",
       "      <td>38</td>\n",
       "      <td>2</td>\n",
       "      <td>Agent</td>\n",
       "      <td>566.472247</td>\n",
       "      <td>Two-Door Car</td>\n",
       "    </tr>\n",
       "    <tr>\n",
       "      <th>3</th>\n",
       "      <td>WW63253</td>\n",
       "      <td>California</td>\n",
       "      <td>7645.861827</td>\n",
       "      <td>No</td>\n",
       "      <td>Basic</td>\n",
       "      <td>Unemployed</td>\n",
       "      <td>M</td>\n",
       "      <td>0</td>\n",
       "      <td>106</td>\n",
       "      <td>18</td>\n",
       "      <td>65</td>\n",
       "      <td>7</td>\n",
       "      <td>Call Center</td>\n",
       "      <td>529.881344</td>\n",
       "      <td>SUV</td>\n",
       "    </tr>\n",
       "    <tr>\n",
       "      <th>4</th>\n",
       "      <td>HB64268</td>\n",
       "      <td>Washington</td>\n",
       "      <td>2813.692575</td>\n",
       "      <td>No</td>\n",
       "      <td>Basic</td>\n",
       "      <td>Employed</td>\n",
       "      <td>M</td>\n",
       "      <td>43836</td>\n",
       "      <td>73</td>\n",
       "      <td>12</td>\n",
       "      <td>44</td>\n",
       "      <td>1</td>\n",
       "      <td>Agent</td>\n",
       "      <td>138.130879</td>\n",
       "      <td>Four-Door Car</td>\n",
       "    </tr>\n",
       "  </tbody>\n",
       "</table>\n",
       "</div>"
      ],
      "text/plain": [
       "  Customer       State  Customer Lifetime Value Response  Coverage  \\\n",
       "0  BU79786  Washington              2763.519279       No     Basic   \n",
       "1  QZ44356     Arizona              6979.535903       No  Extended   \n",
       "2  AI49188      Nevada             12887.431650       No   Premium   \n",
       "3  WW63253  California              7645.861827       No     Basic   \n",
       "4  HB64268  Washington              2813.692575       No     Basic   \n",
       "\n",
       "  EmploymentStatus Gender  Income  Monthly Premium Auto  \\\n",
       "0         Employed      F   56274                    69   \n",
       "1       Unemployed      F       0                    94   \n",
       "2         Employed      F   48767                   108   \n",
       "3       Unemployed      M       0                   106   \n",
       "4         Employed      M   43836                    73   \n",
       "\n",
       "   Months Since Last Claim  Months Since Policy Inception  Number of Policies  \\\n",
       "0                       32                              5                   1   \n",
       "1                       13                             42                   8   \n",
       "2                       18                             38                   2   \n",
       "3                       18                             65                   7   \n",
       "4                       12                             44                   1   \n",
       "\n",
       "  SalesChannel  Total Claim Amount   VehicleClass  \n",
       "0        Agent          384.811147   Two-Door Car  \n",
       "1        Agent         1131.464935  Four-Door Car  \n",
       "2        Agent          566.472247   Two-Door Car  \n",
       "3  Call Center          529.881344            SUV  \n",
       "4        Agent          138.130879  Four-Door Car  "
      ]
     },
     "execution_count": 2,
     "metadata": {},
     "output_type": "execute_result"
    }
   ],
   "source": [
    "#Carregando o dataset com colunas pré-selecionadas\n",
    "auto = pd.read_csv('AutoInsurance.csv', sep = ',', usecols=['Customer','State','EmploymentStatus', 'Customer Lifetime Value', 'Response','Coverage', 'Gender', 'Income', 'Monthly Premium Auto', 'Months Since Last Claim', 'Number of Policies', 'SalesChannel', 'Total Claim Amount', 'VehicleClass', 'Months Since Policy Inception'])\n",
    "auto.head(5)"
   ]
  },
  {
   "cell_type": "code",
   "execution_count": 3,
   "id": "ac4b156e",
   "metadata": {},
   "outputs": [],
   "source": [
    "# Renomeando algumas colunas\n",
    "auto = auto.rename(columns={'Customer':'Cliente','State':'Estado','Customer Lifetime Value':'Valor Vitalício Pgo','Response':'Response','Coverage':'Cobertura','EmploymentStatus':'Status de Trabalho','Gender':'Genero','Income':'Salário','Monthly Premium Auto':'Valor Pagto Mensal',\n",
    "'Months Since Last Claim':'Meses último Sinistro','Months Since Policy Inception':'Tempo de Apólice','Number of Policies':'Número de Apólices','SalesChannel':'Canal de Venda','Total Claim Amount':'Valor Total Sinistro','VehicleClass':'Categoria Veículo'})"
   ]
  },
  {
   "cell_type": "code",
   "execution_count": 4,
   "id": "4818fbb8",
   "metadata": {},
   "outputs": [
    {
     "data": {
      "text/html": [
       "<div>\n",
       "<style scoped>\n",
       "    .dataframe tbody tr th:only-of-type {\n",
       "        vertical-align: middle;\n",
       "    }\n",
       "\n",
       "    .dataframe tbody tr th {\n",
       "        vertical-align: top;\n",
       "    }\n",
       "\n",
       "    .dataframe thead th {\n",
       "        text-align: right;\n",
       "    }\n",
       "</style>\n",
       "<table border=\"1\" class=\"dataframe\">\n",
       "  <thead>\n",
       "    <tr style=\"text-align: right;\">\n",
       "      <th></th>\n",
       "      <th>Cliente</th>\n",
       "      <th>Estado</th>\n",
       "      <th>Valor Vitalício Pgo</th>\n",
       "      <th>Response</th>\n",
       "      <th>Cobertura</th>\n",
       "      <th>Status de Trabalho</th>\n",
       "      <th>Genero</th>\n",
       "      <th>Salário</th>\n",
       "      <th>Valor Pagto Mensal</th>\n",
       "      <th>Meses último Sinistro</th>\n",
       "      <th>Tempo de Apólice</th>\n",
       "      <th>Número de Apólices</th>\n",
       "      <th>Canal de Venda</th>\n",
       "      <th>Valor Total Sinistro</th>\n",
       "      <th>Categoria Veículo</th>\n",
       "    </tr>\n",
       "  </thead>\n",
       "  <tbody>\n",
       "    <tr>\n",
       "      <th>0</th>\n",
       "      <td>BU79786</td>\n",
       "      <td>Washington</td>\n",
       "      <td>2763.519279</td>\n",
       "      <td>No</td>\n",
       "      <td>Basic</td>\n",
       "      <td>Employed</td>\n",
       "      <td>F</td>\n",
       "      <td>56274</td>\n",
       "      <td>69</td>\n",
       "      <td>32</td>\n",
       "      <td>5</td>\n",
       "      <td>1</td>\n",
       "      <td>Agent</td>\n",
       "      <td>384.811147</td>\n",
       "      <td>Two-Door Car</td>\n",
       "    </tr>\n",
       "  </tbody>\n",
       "</table>\n",
       "</div>"
      ],
      "text/plain": [
       "   Cliente      Estado  Valor Vitalício Pgo Response Cobertura  \\\n",
       "0  BU79786  Washington          2763.519279       No     Basic   \n",
       "\n",
       "  Status de Trabalho Genero  Salário  Valor Pagto Mensal  \\\n",
       "0           Employed      F    56274                  69   \n",
       "\n",
       "   Meses último Sinistro  Tempo de Apólice  Número de Apólices Canal de Venda  \\\n",
       "0                     32                 5                   1          Agent   \n",
       "\n",
       "   Valor Total Sinistro Categoria Veículo  \n",
       "0            384.811147      Two-Door Car  "
      ]
     },
     "execution_count": 4,
     "metadata": {},
     "output_type": "execute_result"
    }
   ],
   "source": [
    "#visualizando dados\n",
    "auto.head(1)"
   ]
  },
  {
   "cell_type": "code",
   "execution_count": 5,
   "id": "f8c1b893",
   "metadata": {},
   "outputs": [
    {
     "data": {
      "text/html": [
       "<div>\n",
       "<style scoped>\n",
       "    .dataframe tbody tr th:only-of-type {\n",
       "        vertical-align: middle;\n",
       "    }\n",
       "\n",
       "    .dataframe tbody tr th {\n",
       "        vertical-align: top;\n",
       "    }\n",
       "\n",
       "    .dataframe thead th {\n",
       "        text-align: right;\n",
       "    }\n",
       "</style>\n",
       "<table border=\"1\" class=\"dataframe\">\n",
       "  <thead>\n",
       "    <tr style=\"text-align: right;\">\n",
       "      <th></th>\n",
       "      <th>Cliente</th>\n",
       "      <th>Estado</th>\n",
       "      <th>Valor Vitalício Pgo</th>\n",
       "      <th>Cobertura</th>\n",
       "      <th>Status de Trabalho</th>\n",
       "      <th>Genero</th>\n",
       "      <th>Salário</th>\n",
       "      <th>Valor Pagto Mensal</th>\n",
       "      <th>Meses último Sinistro</th>\n",
       "      <th>Tempo de Apólice</th>\n",
       "      <th>Número de Apólices</th>\n",
       "      <th>Canal de Venda</th>\n",
       "      <th>Valor Total Sinistro</th>\n",
       "      <th>Categoria Veículo</th>\n",
       "      <th>Response_nu</th>\n",
       "    </tr>\n",
       "  </thead>\n",
       "  <tbody>\n",
       "    <tr>\n",
       "      <th>0</th>\n",
       "      <td>BU79786</td>\n",
       "      <td>Washington</td>\n",
       "      <td>2763.519279</td>\n",
       "      <td>Basic</td>\n",
       "      <td>Employed</td>\n",
       "      <td>F</td>\n",
       "      <td>56274</td>\n",
       "      <td>69</td>\n",
       "      <td>32</td>\n",
       "      <td>5</td>\n",
       "      <td>1</td>\n",
       "      <td>Agent</td>\n",
       "      <td>384.811147</td>\n",
       "      <td>Two-Door Car</td>\n",
       "      <td>0</td>\n",
       "    </tr>\n",
       "    <tr>\n",
       "      <th>1</th>\n",
       "      <td>QZ44356</td>\n",
       "      <td>Arizona</td>\n",
       "      <td>6979.535903</td>\n",
       "      <td>Extended</td>\n",
       "      <td>Unemployed</td>\n",
       "      <td>F</td>\n",
       "      <td>0</td>\n",
       "      <td>94</td>\n",
       "      <td>13</td>\n",
       "      <td>42</td>\n",
       "      <td>8</td>\n",
       "      <td>Agent</td>\n",
       "      <td>1131.464935</td>\n",
       "      <td>Four-Door Car</td>\n",
       "      <td>0</td>\n",
       "    </tr>\n",
       "    <tr>\n",
       "      <th>2</th>\n",
       "      <td>AI49188</td>\n",
       "      <td>Nevada</td>\n",
       "      <td>12887.431650</td>\n",
       "      <td>Premium</td>\n",
       "      <td>Employed</td>\n",
       "      <td>F</td>\n",
       "      <td>48767</td>\n",
       "      <td>108</td>\n",
       "      <td>18</td>\n",
       "      <td>38</td>\n",
       "      <td>2</td>\n",
       "      <td>Agent</td>\n",
       "      <td>566.472247</td>\n",
       "      <td>Two-Door Car</td>\n",
       "      <td>0</td>\n",
       "    </tr>\n",
       "    <tr>\n",
       "      <th>3</th>\n",
       "      <td>WW63253</td>\n",
       "      <td>California</td>\n",
       "      <td>7645.861827</td>\n",
       "      <td>Basic</td>\n",
       "      <td>Unemployed</td>\n",
       "      <td>M</td>\n",
       "      <td>0</td>\n",
       "      <td>106</td>\n",
       "      <td>18</td>\n",
       "      <td>65</td>\n",
       "      <td>7</td>\n",
       "      <td>Call Center</td>\n",
       "      <td>529.881344</td>\n",
       "      <td>SUV</td>\n",
       "      <td>0</td>\n",
       "    </tr>\n",
       "    <tr>\n",
       "      <th>4</th>\n",
       "      <td>HB64268</td>\n",
       "      <td>Washington</td>\n",
       "      <td>2813.692575</td>\n",
       "      <td>Basic</td>\n",
       "      <td>Employed</td>\n",
       "      <td>M</td>\n",
       "      <td>43836</td>\n",
       "      <td>73</td>\n",
       "      <td>12</td>\n",
       "      <td>44</td>\n",
       "      <td>1</td>\n",
       "      <td>Agent</td>\n",
       "      <td>138.130879</td>\n",
       "      <td>Four-Door Car</td>\n",
       "      <td>0</td>\n",
       "    </tr>\n",
       "  </tbody>\n",
       "</table>\n",
       "</div>"
      ],
      "text/plain": [
       "   Cliente      Estado  Valor Vitalício Pgo Cobertura Status de Trabalho  \\\n",
       "0  BU79786  Washington          2763.519279     Basic           Employed   \n",
       "1  QZ44356     Arizona          6979.535903  Extended         Unemployed   \n",
       "2  AI49188      Nevada         12887.431650   Premium           Employed   \n",
       "3  WW63253  California          7645.861827     Basic         Unemployed   \n",
       "4  HB64268  Washington          2813.692575     Basic           Employed   \n",
       "\n",
       "  Genero  Salário  Valor Pagto Mensal  Meses último Sinistro  \\\n",
       "0      F    56274                  69                     32   \n",
       "1      F        0                  94                     13   \n",
       "2      F    48767                 108                     18   \n",
       "3      M        0                 106                     18   \n",
       "4      M    43836                  73                     12   \n",
       "\n",
       "   Tempo de Apólice  Número de Apólices Canal de Venda  Valor Total Sinistro  \\\n",
       "0                 5                   1          Agent            384.811147   \n",
       "1                42                   8          Agent           1131.464935   \n",
       "2                38                   2          Agent            566.472247   \n",
       "3                65                   7    Call Center            529.881344   \n",
       "4                44                   1          Agent            138.130879   \n",
       "\n",
       "  Categoria Veículo Response_nu  \n",
       "0      Two-Door Car           0  \n",
       "1     Four-Door Car           0  \n",
       "2      Two-Door Car           0  \n",
       "3               SUV           0  \n",
       "4     Four-Door Car           0  "
      ]
     },
     "execution_count": 5,
     "metadata": {},
     "output_type": "execute_result"
    }
   ],
   "source": [
    "#Recodificação da variável \"Response\": de (yes/no) para (1,0)\n",
    "condicoes=[auto[\"Response\"]==\"Yes\",auto[\"Response\"]==\"No\"]\n",
    "classe=[1,0]\n",
    "auto[\"Response_nu\"] = np.select(condicoes, classe, default=\"Sem Info\")\n",
    "auto = auto.drop(\"Response\", axis=1)\n",
    "auto.head()"
   ]
  },
  {
   "cell_type": "code",
   "execution_count": 73,
   "id": "43b5de27",
   "metadata": {},
   "outputs": [
    {
     "data": {
      "text/plain": [
       "<AxesSubplot:>"
      ]
     },
     "execution_count": 73,
     "metadata": {},
     "output_type": "execute_result"
    },
    {
     "data": {
      "image/png": "[encoded data removed]",
      "text/plain": [
       "<Figure size 1008x504 with 2 Axes>"
      ]
     },
     "metadata": {
      "needs_background": "light"
     },
     "output_type": "display_data"
    }
   ],
   "source": [
    "# verificando correlação entre variaveis\n",
    "\n",
    "correlation = auto.corr().round(2)\n",
    "plt.figure(figsize = (14,7))\n",
    "sns.heatmap(correlation, annot = True, cmap = 'YlOrBr')"
   ]
  },
  {
   "cell_type": "code",
   "execution_count": 6,
   "id": "c3f29b24",
   "metadata": {},
   "outputs": [
    {
     "name": "stdout",
     "output_type": "stream",
     "text": [
      "Cliente                  0\n",
      "Estado                   0\n",
      "Valor Vitalício Pgo      0\n",
      "Cobertura                0\n",
      "Status de Trabalho       0\n",
      "Genero                   0\n",
      "Salário                  0\n",
      "Valor Pagto Mensal       0\n",
      "Meses último Sinistro    0\n",
      "Tempo de Apólice         0\n",
      "Número de Apólices       0\n",
      "Canal de Venda           0\n",
      "Valor Total Sinistro     0\n",
      "Categoria Veículo        0\n",
      "Response_nu              0\n",
      "dtype: int64\n"
     ]
    }
   ],
   "source": [
    "#checando por valores nulos\n",
    "print(auto.isnull().sum())"
   ]
  },
  {
   "cell_type": "code",
   "execution_count": 7,
   "id": "412a18ec",
   "metadata": {},
   "outputs": [
    {
     "name": "stdout",
     "output_type": "stream",
     "text": [
      "<class 'pandas.core.frame.DataFrame'>\n",
      "RangeIndex: 9134 entries, 0 to 9133\n",
      "Data columns (total 15 columns):\n",
      " #   Column                 Non-Null Count  Dtype  \n",
      "---  ------                 --------------  -----  \n",
      " 0   Cliente                9134 non-null   object \n",
      " 1   Estado                 9134 non-null   object \n",
      " 2   Valor Vitalício Pgo    9134 non-null   float64\n",
      " 3   Cobertura              9134 non-null   object \n",
      " 4   Status de Trabalho     9134 non-null   object \n",
      " 5   Genero                 9134 non-null   object \n",
      " 6   Salário                9134 non-null   int64  \n",
      " 7   Valor Pagto Mensal     9134 non-null   int64  \n",
      " 8   Meses último Sinistro  9134 non-null   int64  \n",
      " 9   Tempo de Apólice       9134 non-null   int64  \n",
      " 10  Número de Apólices     9134 non-null   int64  \n",
      " 11  Canal de Venda         9134 non-null   object \n",
      " 12  Valor Total Sinistro   9134 non-null   float64\n",
      " 13  Categoria Veículo      9134 non-null   object \n",
      " 14  Response_nu            9134 non-null   object \n",
      "dtypes: float64(2), int64(5), object(8)\n",
      "memory usage: 1.0+ MB\n"
     ]
    }
   ],
   "source": [
    "# Dtypes\n",
    "auto.info()"
   ]
  },
  {
   "cell_type": "code",
   "execution_count": 48,
   "id": "92399286",
   "metadata": {},
   "outputs": [
    {
     "data": {
      "text/html": [
       "<div>\n",
       "<style scoped>\n",
       "    .dataframe tbody tr th:only-of-type {\n",
       "        vertical-align: middle;\n",
       "    }\n",
       "\n",
       "    .dataframe tbody tr th {\n",
       "        vertical-align: top;\n",
       "    }\n",
       "\n",
       "    .dataframe thead th {\n",
       "        text-align: right;\n",
       "    }\n",
       "</style>\n",
       "<table border=\"1\" class=\"dataframe\">\n",
       "  <thead>\n",
       "    <tr style=\"text-align: right;\">\n",
       "      <th></th>\n",
       "      <th>Valor Vitalício Pgo</th>\n",
       "      <th>Salário</th>\n",
       "      <th>Valor Pagto Mensal</th>\n",
       "      <th>Meses último Sinistro</th>\n",
       "      <th>Tempo de Apólice</th>\n",
       "      <th>Número de Apólices</th>\n",
       "      <th>Valor Total Sinistro</th>\n",
       "    </tr>\n",
       "  </thead>\n",
       "  <tbody>\n",
       "    <tr>\n",
       "      <th>count</th>\n",
       "      <td>9134.000000</td>\n",
       "      <td>9134.000000</td>\n",
       "      <td>9134.000000</td>\n",
       "      <td>9134.000000</td>\n",
       "      <td>9134.000000</td>\n",
       "      <td>9134.000000</td>\n",
       "      <td>9134.000000</td>\n",
       "    </tr>\n",
       "    <tr>\n",
       "      <th>mean</th>\n",
       "      <td>8004.940475</td>\n",
       "      <td>37657.380009</td>\n",
       "      <td>93.219291</td>\n",
       "      <td>15.097000</td>\n",
       "      <td>48.064594</td>\n",
       "      <td>2.966170</td>\n",
       "      <td>434.088794</td>\n",
       "    </tr>\n",
       "    <tr>\n",
       "      <th>std</th>\n",
       "      <td>6870.967608</td>\n",
       "      <td>30379.904734</td>\n",
       "      <td>34.407967</td>\n",
       "      <td>10.073257</td>\n",
       "      <td>27.905991</td>\n",
       "      <td>2.390182</td>\n",
       "      <td>290.500092</td>\n",
       "    </tr>\n",
       "    <tr>\n",
       "      <th>min</th>\n",
       "      <td>1898.007675</td>\n",
       "      <td>0.000000</td>\n",
       "      <td>61.000000</td>\n",
       "      <td>0.000000</td>\n",
       "      <td>0.000000</td>\n",
       "      <td>1.000000</td>\n",
       "      <td>0.099007</td>\n",
       "    </tr>\n",
       "    <tr>\n",
       "      <th>25%</th>\n",
       "      <td>3994.251794</td>\n",
       "      <td>0.000000</td>\n",
       "      <td>68.000000</td>\n",
       "      <td>6.000000</td>\n",
       "      <td>24.000000</td>\n",
       "      <td>1.000000</td>\n",
       "      <td>272.258244</td>\n",
       "    </tr>\n",
       "    <tr>\n",
       "      <th>50%</th>\n",
       "      <td>5780.182197</td>\n",
       "      <td>33889.500000</td>\n",
       "      <td>83.000000</td>\n",
       "      <td>14.000000</td>\n",
       "      <td>48.000000</td>\n",
       "      <td>2.000000</td>\n",
       "      <td>383.945434</td>\n",
       "    </tr>\n",
       "    <tr>\n",
       "      <th>75%</th>\n",
       "      <td>8962.167041</td>\n",
       "      <td>62320.000000</td>\n",
       "      <td>109.000000</td>\n",
       "      <td>23.000000</td>\n",
       "      <td>71.000000</td>\n",
       "      <td>4.000000</td>\n",
       "      <td>547.514839</td>\n",
       "    </tr>\n",
       "    <tr>\n",
       "      <th>max</th>\n",
       "      <td>83325.381190</td>\n",
       "      <td>99981.000000</td>\n",
       "      <td>298.000000</td>\n",
       "      <td>35.000000</td>\n",
       "      <td>99.000000</td>\n",
       "      <td>9.000000</td>\n",
       "      <td>2893.239678</td>\n",
       "    </tr>\n",
       "  </tbody>\n",
       "</table>\n",
       "</div>"
      ],
      "text/plain": [
       "       Valor Vitalício Pgo       Salário  Valor Pagto Mensal  \\\n",
       "count          9134.000000   9134.000000         9134.000000   \n",
       "mean           8004.940475  37657.380009           93.219291   \n",
       "std            6870.967608  30379.904734           34.407967   \n",
       "min            1898.007675      0.000000           61.000000   \n",
       "25%            3994.251794      0.000000           68.000000   \n",
       "50%            5780.182197  33889.500000           83.000000   \n",
       "75%            8962.167041  62320.000000          109.000000   \n",
       "max           83325.381190  99981.000000          298.000000   \n",
       "\n",
       "       Meses último Sinistro  Tempo de Apólice  Número de Apólices  \\\n",
       "count            9134.000000       9134.000000         9134.000000   \n",
       "mean               15.097000         48.064594            2.966170   \n",
       "std                10.073257         27.905991            2.390182   \n",
       "min                 0.000000          0.000000            1.000000   \n",
       "25%                 6.000000         24.000000            1.000000   \n",
       "50%                14.000000         48.000000            2.000000   \n",
       "75%                23.000000         71.000000            4.000000   \n",
       "max                35.000000         99.000000            9.000000   \n",
       "\n",
       "       Valor Total Sinistro  \n",
       "count           9134.000000  \n",
       "mean             434.088794  \n",
       "std              290.500092  \n",
       "min                0.099007  \n",
       "25%              272.258244  \n",
       "50%              383.945434  \n",
       "75%              547.514839  \n",
       "max             2893.239678  "
      ]
     },
     "execution_count": 48,
     "metadata": {},
     "output_type": "execute_result"
    }
   ],
   "source": [
    "# Medidas de posição - Estatística descritiva. Variaveis numéricas e qualitativas\n",
    "auto.describe()"
   ]
  },
  {
   "cell_type": "code",
   "execution_count": 74,
   "id": "9294d245",
   "metadata": {},
   "outputs": [
    {
     "data": {
      "text/html": [
       "<div>\n",
       "<style scoped>\n",
       "    .dataframe tbody tr th:only-of-type {\n",
       "        vertical-align: middle;\n",
       "    }\n",
       "\n",
       "    .dataframe tbody tr th {\n",
       "        vertical-align: top;\n",
       "    }\n",
       "\n",
       "    .dataframe thead th {\n",
       "        text-align: right;\n",
       "    }\n",
       "</style>\n",
       "<table border=\"1\" class=\"dataframe\">\n",
       "  <thead>\n",
       "    <tr style=\"text-align: right;\">\n",
       "      <th></th>\n",
       "      <th>Valor Pagto Mensal</th>\n",
       "    </tr>\n",
       "  </thead>\n",
       "  <tbody>\n",
       "    <tr>\n",
       "      <th>count</th>\n",
       "      <td>9134.000000</td>\n",
       "    </tr>\n",
       "    <tr>\n",
       "      <th>mean</th>\n",
       "      <td>93.219291</td>\n",
       "    </tr>\n",
       "    <tr>\n",
       "      <th>std</th>\n",
       "      <td>34.407967</td>\n",
       "    </tr>\n",
       "    <tr>\n",
       "      <th>min</th>\n",
       "      <td>61.000000</td>\n",
       "    </tr>\n",
       "    <tr>\n",
       "      <th>25%</th>\n",
       "      <td>68.000000</td>\n",
       "    </tr>\n",
       "    <tr>\n",
       "      <th>50%</th>\n",
       "      <td>83.000000</td>\n",
       "    </tr>\n",
       "    <tr>\n",
       "      <th>75%</th>\n",
       "      <td>109.000000</td>\n",
       "    </tr>\n",
       "    <tr>\n",
       "      <th>max</th>\n",
       "      <td>298.000000</td>\n",
       "    </tr>\n",
       "  </tbody>\n",
       "</table>\n",
       "</div>"
      ],
      "text/plain": [
       "       Valor Pagto Mensal\n",
       "count         9134.000000\n",
       "mean            93.219291\n",
       "std             34.407967\n",
       "min             61.000000\n",
       "25%             68.000000\n",
       "50%             83.000000\n",
       "75%            109.000000\n",
       "max            298.000000"
      ]
     },
     "execution_count": 74,
     "metadata": {},
     "output_type": "execute_result"
    }
   ],
   "source": [
    "# Análise descritiva _ Pagam em média $94 dólares por mês\n",
    "auto[[\"Valor Pagto Mensal\"]].describe()"
   ]
  },
  {
   "cell_type": "code",
   "execution_count": 75,
   "id": "a25cfac8",
   "metadata": {},
   "outputs": [
    {
     "data": {
      "text/html": [
       "<div>\n",
       "<style scoped>\n",
       "    .dataframe tbody tr th:only-of-type {\n",
       "        vertical-align: middle;\n",
       "    }\n",
       "\n",
       "    .dataframe tbody tr th {\n",
       "        vertical-align: top;\n",
       "    }\n",
       "\n",
       "    .dataframe thead th {\n",
       "        text-align: right;\n",
       "    }\n",
       "</style>\n",
       "<table border=\"1\" class=\"dataframe\">\n",
       "  <thead>\n",
       "    <tr style=\"text-align: right;\">\n",
       "      <th></th>\n",
       "      <th>Cliente</th>\n",
       "    </tr>\n",
       "    <tr>\n",
       "      <th>Cobertura</th>\n",
       "      <th></th>\n",
       "    </tr>\n",
       "  </thead>\n",
       "  <tbody>\n",
       "    <tr>\n",
       "      <th>Basic</th>\n",
       "      <td>5568</td>\n",
       "    </tr>\n",
       "    <tr>\n",
       "      <th>Extended</th>\n",
       "      <td>2742</td>\n",
       "    </tr>\n",
       "    <tr>\n",
       "      <th>Premium</th>\n",
       "      <td>824</td>\n",
       "    </tr>\n",
       "  </tbody>\n",
       "</table>\n",
       "</div>"
      ],
      "text/plain": [
       "           Cliente\n",
       "Cobertura         \n",
       "Basic         5568\n",
       "Extended      2742\n",
       "Premium        824"
      ]
     },
     "execution_count": 75,
     "metadata": {},
     "output_type": "execute_result"
    }
   ],
   "source": [
    "# Total de apólices por tipo de cobertura\n",
    "Qtd_apol_cobert = auto.groupby(\"Cobertura\")[[\"Cliente\"]].count()\n",
    "Qtd_apol_cobert"
   ]
  },
  {
   "cell_type": "code",
   "execution_count": 10,
   "id": "19ed409b",
   "metadata": {},
   "outputs": [
    {
     "data": {
      "text/html": [
       "<div>\n",
       "<style scoped>\n",
       "    .dataframe tbody tr th:only-of-type {\n",
       "        vertical-align: middle;\n",
       "    }\n",
       "\n",
       "    .dataframe tbody tr th {\n",
       "        vertical-align: top;\n",
       "    }\n",
       "\n",
       "    .dataframe thead th {\n",
       "        text-align: right;\n",
       "    }\n",
       "</style>\n",
       "<table border=\"1\" class=\"dataframe\">\n",
       "  <thead>\n",
       "    <tr style=\"text-align: right;\">\n",
       "      <th></th>\n",
       "      <th>Número de Apólices</th>\n",
       "    </tr>\n",
       "    <tr>\n",
       "      <th>Canal de Venda</th>\n",
       "      <th></th>\n",
       "    </tr>\n",
       "  </thead>\n",
       "  <tbody>\n",
       "    <tr>\n",
       "      <th>Agent</th>\n",
       "      <td>3477</td>\n",
       "    </tr>\n",
       "    <tr>\n",
       "      <th>Branch</th>\n",
       "      <td>2567</td>\n",
       "    </tr>\n",
       "    <tr>\n",
       "      <th>Call Center</th>\n",
       "      <td>1765</td>\n",
       "    </tr>\n",
       "    <tr>\n",
       "      <th>Web</th>\n",
       "      <td>1325</td>\n",
       "    </tr>\n",
       "  </tbody>\n",
       "</table>\n",
       "</div>"
      ],
      "text/plain": [
       "                Número de Apólices\n",
       "Canal de Venda                    \n",
       "Agent                         3477\n",
       "Branch                        2567\n",
       "Call Center                   1765\n",
       "Web                           1325"
      ]
     },
     "execution_count": 10,
     "metadata": {},
     "output_type": "execute_result"
    }
   ],
   "source": [
    "# Total de apólices por canal de vendas\n",
    "num_apol_canal = auto.groupby(\"Canal de Venda\")[[\"Número de Apólices\"]].count()\n",
    "num_apol_canal"
   ]
  },
  {
   "cell_type": "code",
   "execution_count": 71,
   "id": "d9d30ba7",
   "metadata": {},
   "outputs": [
    {
     "data": {
      "text/plain": [
       "<AxesSubplot:ylabel='Número de Apólices'>"
      ]
     },
     "execution_count": 71,
     "metadata": {},
     "output_type": "execute_result"
    },
    {
     "data": {
      "image/png": "[encoded data removed]",
      "text/plain": [
       "<Figure size 432x288 with 1 Axes>"
      ]
     },
     "metadata": {},
     "output_type": "display_data"
    }
   ],
   "source": [
    "auto.groupby(['Canal de Venda']).sum().plot(kind='pie', y='Número de Apólices', autopct='%1.0f%%', shadow=True,startangle=90)\n"
   ]
  },
  {
   "cell_type": "code",
   "execution_count": 11,
   "id": "b59feef6",
   "metadata": {},
   "outputs": [
    {
     "data": {
      "text/plain": [
       "<AxesSubplot:xlabel='Número de Apólices', ylabel='Density'>"
      ]
     },
     "execution_count": 11,
     "metadata": {},
     "output_type": "execute_result"
    },
    {
     "data": {
      "image/png": "[encoded data removed]",
      "text/plain": [
       "<Figure size 432x288 with 1 Axes>"
      ]
     },
     "metadata": {
      "needs_background": "light"
     },
     "output_type": "display_data"
    }
   ],
   "source": [
    "sns.kdeplot(data=auto, x=\"Número de Apólices\", hue=\"Canal de Venda\", multiple=\"stack\")"
   ]
  },
  {
   "cell_type": "code",
   "execution_count": 105,
   "id": "092ee5fc",
   "metadata": {},
   "outputs": [
    {
     "data": {
      "text/plain": [
       "California    3150\n",
       "Oregon        2601\n",
       "Arizona       1703\n",
       "Nevada         882\n",
       "Washington     798\n",
       "Name: Estado, dtype: int64"
      ]
     },
     "execution_count": 105,
     "metadata": {},
     "output_type": "execute_result"
    }
   ],
   "source": [
    "#Quantidade de  Clientes por Estado \n",
    "auto[\"Estado\"].value_counts()"
   ]
  },
  {
   "cell_type": "code",
   "execution_count": 52,
   "id": "2ae621a1",
   "metadata": {
    "scrolled": true
   },
   "outputs": [
    {
     "data": {
      "text/plain": [
       "<seaborn.axisgrid.FacetGrid at 0x2a2e6902df0>"
      ]
     },
     "execution_count": 52,
     "metadata": {},
     "output_type": "execute_result"
    },
    {
     "data": {
      "image/png": "[encoded data removed]",
      "text/plain": [
       "<Figure size 360x360 with 1 Axes>"
      ]
     },
     "metadata": {
      "needs_background": "light"
     },
     "output_type": "display_data"
    }
   ],
   "source": [
    "#CLientes por estado\n",
    "sns.displot(data=auto, x=\"Estado\", kde=True)\n"
   ]
  },
  {
   "cell_type": "code",
   "execution_count": 15,
   "id": "1ee280dd",
   "metadata": {},
   "outputs": [
    {
     "data": {
      "text/html": [
       "<div>\n",
       "<style scoped>\n",
       "    .dataframe tbody tr th:only-of-type {\n",
       "        vertical-align: middle;\n",
       "    }\n",
       "\n",
       "    .dataframe tbody tr th {\n",
       "        vertical-align: top;\n",
       "    }\n",
       "\n",
       "    .dataframe thead th {\n",
       "        text-align: right;\n",
       "    }\n",
       "</style>\n",
       "<table border=\"1\" class=\"dataframe\">\n",
       "  <thead>\n",
       "    <tr style=\"text-align: right;\">\n",
       "      <th></th>\n",
       "      <th>Meses último Sinistro</th>\n",
       "    </tr>\n",
       "    <tr>\n",
       "      <th>Genero</th>\n",
       "      <th></th>\n",
       "    </tr>\n",
       "  </thead>\n",
       "  <tbody>\n",
       "    <tr>\n",
       "      <th>F</th>\n",
       "      <td>14.844998</td>\n",
       "    </tr>\n",
       "    <tr>\n",
       "      <th>M</th>\n",
       "      <td>15.359249</td>\n",
       "    </tr>\n",
       "  </tbody>\n",
       "</table>\n",
       "</div>"
      ],
      "text/plain": [
       "        Meses último Sinistro\n",
       "Genero                       \n",
       "F                   14.844998\n",
       "M                   15.359249"
      ]
     },
     "execution_count": 15,
     "metadata": {},
     "output_type": "execute_result"
    }
   ],
   "source": [
    "# Media de meses desde último acionamento por gênero\n",
    "\n",
    "media_meses_aciona = auto.groupby(\"Genero\")[[\"Meses último Sinistro\"]].mean()\n",
    "media_meses_aciona"
   ]
  },
  {
   "cell_type": "code",
   "execution_count": 58,
   "id": "8b42b13a",
   "metadata": {},
   "outputs": [
    {
     "data": {
      "text/plain": [
       "<seaborn.axisgrid.FacetGrid at 0x2a2e6b635b0>"
      ]
     },
     "execution_count": 58,
     "metadata": {},
     "output_type": "execute_result"
    },
    {
     "data": {
      "image/png": "[encoded data removed]",
      "text/plain": [
       "<Figure size 360x360 with 1 Axes>"
      ]
     },
     "metadata": {
      "needs_background": "light"
     },
     "output_type": "display_data"
    }
   ],
   "source": [
    "# plot bivariado\n",
    "sns.displot(data=media_meses_aciona , x=\"Genero\", y=\"Meses último Sinistro\", color=\"y\")"
   ]
  },
  {
   "cell_type": "code",
   "execution_count": 61,
   "id": "251e8a0b",
   "metadata": {},
   "outputs": [
    {
     "data": {
      "text/plain": [
       "<seaborn.axisgrid.FacetGrid at 0x2a2e6b6c6d0>"
      ]
     },
     "execution_count": 61,
     "metadata": {},
     "output_type": "execute_result"
    },
    {
     "data": {
      "image/png": "[encoded data removed]",
      "text/plain": [
       "<Figure size 814.875x360 with 2 Axes>"
      ]
     },
     "metadata": {
      "needs_background": "light"
     },
     "output_type": "display_data"
    }
   ],
   "source": [
    "sns.displot(data=auto, x=\"Número de Apólices\", hue=\"Estado\", col=\"Genero\")"
   ]
  },
  {
   "cell_type": "code",
   "execution_count": 66,
   "id": "2ad7ebe2",
   "metadata": {},
   "outputs": [
    {
     "data": {
      "text/html": [
       "<div>\n",
       "<style scoped>\n",
       "    .dataframe tbody tr th:only-of-type {\n",
       "        vertical-align: middle;\n",
       "    }\n",
       "\n",
       "    .dataframe tbody tr th {\n",
       "        vertical-align: top;\n",
       "    }\n",
       "\n",
       "    .dataframe thead th {\n",
       "        text-align: right;\n",
       "    }\n",
       "</style>\n",
       "<table border=\"1\" class=\"dataframe\">\n",
       "  <thead>\n",
       "    <tr style=\"text-align: right;\">\n",
       "      <th></th>\n",
       "      <th>Número de Apólices</th>\n",
       "    </tr>\n",
       "    <tr>\n",
       "      <th>Genero</th>\n",
       "      <th></th>\n",
       "    </tr>\n",
       "  </thead>\n",
       "  <tbody>\n",
       "    <tr>\n",
       "      <th>F</th>\n",
       "      <td>4658</td>\n",
       "    </tr>\n",
       "    <tr>\n",
       "      <th>M</th>\n",
       "      <td>4476</td>\n",
       "    </tr>\n",
       "  </tbody>\n",
       "</table>\n",
       "</div>"
      ],
      "text/plain": [
       "        Número de Apólices\n",
       "Genero                    \n",
       "F                     4658\n",
       "M                     4476"
      ]
     },
     "execution_count": 66,
     "metadata": {},
     "output_type": "execute_result"
    }
   ],
   "source": [
    "# Produtos por Gênero\n",
    "auto.groupby(\"Genero\")[[\"Número de Apólices\"]].count()"
   ]
  },
  {
   "cell_type": "code",
   "execution_count": 31,
   "id": "4bac26db",
   "metadata": {},
   "outputs": [
    {
     "data": {
      "text/html": [
       "<div>\n",
       "<style scoped>\n",
       "    .dataframe tbody tr th:only-of-type {\n",
       "        vertical-align: middle;\n",
       "    }\n",
       "\n",
       "    .dataframe tbody tr th {\n",
       "        vertical-align: top;\n",
       "    }\n",
       "\n",
       "    .dataframe thead th {\n",
       "        text-align: right;\n",
       "    }\n",
       "</style>\n",
       "<table border=\"1\" class=\"dataframe\">\n",
       "  <thead>\n",
       "    <tr style=\"text-align: right;\">\n",
       "      <th>Genero</th>\n",
       "      <th>F</th>\n",
       "      <th>M</th>\n",
       "    </tr>\n",
       "    <tr>\n",
       "      <th>Cobertura</th>\n",
       "      <th></th>\n",
       "      <th></th>\n",
       "    </tr>\n",
       "  </thead>\n",
       "  <tbody>\n",
       "    <tr>\n",
       "      <th>Basic</th>\n",
       "      <td>0.503053</td>\n",
       "      <td>0.496947</td>\n",
       "    </tr>\n",
       "    <tr>\n",
       "      <th>Extended</th>\n",
       "      <td>0.522247</td>\n",
       "      <td>0.477753</td>\n",
       "    </tr>\n",
       "    <tr>\n",
       "      <th>Premium</th>\n",
       "      <td>0.515777</td>\n",
       "      <td>0.484223</td>\n",
       "    </tr>\n",
       "  </tbody>\n",
       "</table>\n",
       "</div>"
      ],
      "text/plain": [
       "Genero            F         M\n",
       "Cobertura                    \n",
       "Basic      0.503053  0.496947\n",
       "Extended   0.522247  0.477753\n",
       "Premium    0.515777  0.484223"
      ]
     },
     "execution_count": 31,
     "metadata": {},
     "output_type": "execute_result"
    }
   ],
   "source": [
    "#Análise bivariada gênero/cobertura\n",
    "pd.crosstab(auto.Cobertura, auto.Genero, normalize='index')"
   ]
  },
  {
   "cell_type": "code",
   "execution_count": 69,
   "id": "df703a9d",
   "metadata": {},
   "outputs": [
    {
     "data": {
      "text/html": [
       "<div>\n",
       "<style scoped>\n",
       "    .dataframe tbody tr th:only-of-type {\n",
       "        vertical-align: middle;\n",
       "    }\n",
       "\n",
       "    .dataframe tbody tr th {\n",
       "        vertical-align: top;\n",
       "    }\n",
       "\n",
       "    .dataframe thead th {\n",
       "        text-align: right;\n",
       "    }\n",
       "</style>\n",
       "<table border=\"1\" class=\"dataframe\">\n",
       "  <thead>\n",
       "    <tr style=\"text-align: right;\">\n",
       "      <th></th>\n",
       "      <th>Frequência</th>\n",
       "      <th>Porcentagem(%)</th>\n",
       "    </tr>\n",
       "  </thead>\n",
       "  <tbody>\n",
       "    <tr>\n",
       "      <th>0</th>\n",
       "      <td>7826</td>\n",
       "      <td>85.679877</td>\n",
       "    </tr>\n",
       "    <tr>\n",
       "      <th>1</th>\n",
       "      <td>1308</td>\n",
       "      <td>14.320123</td>\n",
       "    </tr>\n",
       "  </tbody>\n",
       "</table>\n",
       "</div>"
      ],
      "text/plain": [
       "   Frequência  Porcentagem(%)\n",
       "0        7826       85.679877\n",
       "1        1308       14.320123"
      ]
     },
     "execution_count": 69,
     "metadata": {},
     "output_type": "execute_result"
    }
   ],
   "source": [
    "#Analise da frequência da variavel 'Response', com a finalidade de saber: Quem possui ou não seguro Saúde\n",
    "#85% do dataset não ainda pode ser prospectado.\n",
    "frequencia = auto['Response_nu'].value_counts()\n",
    "frequencia\n",
    "percentual =  auto['Response_nu'].value_counts(normalize = True)*100\n",
    "percentual\n",
    "dist_freq = pd.DataFrame({'Frequência': frequencia, 'Porcentagem(%)': percentual})\n",
    "dist_freq"
   ]
  },
  {
   "cell_type": "code",
   "execution_count": 34,
   "id": "edb418e1",
   "metadata": {},
   "outputs": [
    {
     "data": {
      "text/plain": [
       "<seaborn.axisgrid.FacetGrid at 0x2a2a71a1f40>"
      ]
     },
     "execution_count": 34,
     "metadata": {},
     "output_type": "execute_result"
    },
    {
     "data": {
      "image/png": "[encoded data removed]",
      "text/plain": [
       "<Figure size 360x360 with 1 Axes>"
      ]
     },
     "metadata": {
      "needs_background": "light"
     },
     "output_type": "display_data"
    }
   ],
   "source": [
    "# cruzamento das váriaveis correlacionadas = \"Valor Pagto Mensal\",\"Valor Total Sinistro\"\n",
    "\n",
    "sns.displot(data=auto, x=\"Valor Pagto Mensal\", y=\"Valor Total Sinistro\", palette=\"Dark2\", color=\"red\", rug=\"True\")"
   ]
  },
  {
   "cell_type": "code",
   "execution_count": 68,
   "id": "cf5f2473",
   "metadata": {},
   "outputs": [
    {
     "data": {
      "text/plain": [
       "<seaborn.axisgrid.FacetGrid at 0x2a2e7f9f3a0>"
      ]
     },
     "execution_count": 68,
     "metadata": {},
     "output_type": "execute_result"
    },
    {
     "data": {
      "image/png": "[encoded data removed]",
      "text/plain": [
       "<Figure size 360x360 with 1 Axes>"
      ]
     },
     "metadata": {
      "needs_background": "light"
     },
     "output_type": "display_data"
    }
   ],
   "source": [
    "#correlação \n",
    "sns.displot(data=auto, x=\"Valor Pagto Mensal\", y=\"Valor Total Sinistro\", kind=\"kde\")"
   ]
  },
  {
   "cell_type": "code",
   "execution_count": 37,
   "id": "5ca8d5bc",
   "metadata": {},
   "outputs": [
    {
     "data": {
      "text/plain": [
       "<seaborn.axisgrid.FacetGrid at 0x2a2a381fa00>"
      ]
     },
     "execution_count": 37,
     "metadata": {},
     "output_type": "execute_result"
    },
    {
     "data": {
      "image/png": "[encoded data removed]",
      "text/plain": [
       "<Figure size 360x360 with 1 Axes>"
      ]
     },
     "metadata": {
      "needs_background": "light"
     },
     "output_type": "display_data"
    }
   ],
   "source": [
    "# Variável Response - Cliente possuí ou não outro produto de seguro ( ex. Vida ou saúde)\n",
    "sns.displot(auto['Response_nu'], color=\"purple\")"
   ]
  },
  {
   "cell_type": "code",
   "execution_count": 38,
   "id": "743f0695",
   "metadata": {},
   "outputs": [
    {
     "data": {
      "text/html": [
       "<div>\n",
       "<style scoped>\n",
       "    .dataframe tbody tr th:only-of-type {\n",
       "        vertical-align: middle;\n",
       "    }\n",
       "\n",
       "    .dataframe tbody tr th {\n",
       "        vertical-align: top;\n",
       "    }\n",
       "\n",
       "    .dataframe thead th {\n",
       "        text-align: right;\n",
       "    }\n",
       "</style>\n",
       "<table border=\"1\" class=\"dataframe\">\n",
       "  <thead>\n",
       "    <tr style=\"text-align: right;\">\n",
       "      <th></th>\n",
       "      <th>Número de Apólices</th>\n",
       "    </tr>\n",
       "  </thead>\n",
       "  <tbody>\n",
       "    <tr>\n",
       "      <th>count</th>\n",
       "      <td>9134.000000</td>\n",
       "    </tr>\n",
       "    <tr>\n",
       "      <th>mean</th>\n",
       "      <td>2.966170</td>\n",
       "    </tr>\n",
       "    <tr>\n",
       "      <th>std</th>\n",
       "      <td>2.390182</td>\n",
       "    </tr>\n",
       "    <tr>\n",
       "      <th>min</th>\n",
       "      <td>1.000000</td>\n",
       "    </tr>\n",
       "    <tr>\n",
       "      <th>25%</th>\n",
       "      <td>1.000000</td>\n",
       "    </tr>\n",
       "    <tr>\n",
       "      <th>50%</th>\n",
       "      <td>2.000000</td>\n",
       "    </tr>\n",
       "    <tr>\n",
       "      <th>75%</th>\n",
       "      <td>4.000000</td>\n",
       "    </tr>\n",
       "    <tr>\n",
       "      <th>max</th>\n",
       "      <td>9.000000</td>\n",
       "    </tr>\n",
       "  </tbody>\n",
       "</table>\n",
       "</div>"
      ],
      "text/plain": [
       "       Número de Apólices\n",
       "count         9134.000000\n",
       "mean             2.966170\n",
       "std              2.390182\n",
       "min              1.000000\n",
       "25%              1.000000\n",
       "50%              2.000000\n",
       "75%              4.000000\n",
       "max              9.000000"
      ]
     },
     "execution_count": 38,
     "metadata": {},
     "output_type": "execute_result"
    }
   ],
   "source": [
    "auto[[\"Número de Apólices\"]].describe()"
   ]
  },
  {
   "cell_type": "code",
   "execution_count": 39,
   "id": "78cb3e45",
   "metadata": {},
   "outputs": [
    {
     "data": {
      "text/plain": [
       "<seaborn.axisgrid.FacetGrid at 0x2a2a7d0cbe0>"
      ]
     },
     "execution_count": 39,
     "metadata": {},
     "output_type": "execute_result"
    },
    {
     "data": {
      "image/png": "[encoded data removed]",
      "text/plain": [
       "<Figure size 1800x360 with 5 Axes>"
      ]
     },
     "metadata": {
      "needs_background": "light"
     },
     "output_type": "display_data"
    }
   ],
   "source": [
    "sns.displot(data=auto, x=\"Número de Apólices\", col=\"Estado\", kde=True)"
   ]
  },
  {
   "cell_type": "code",
   "execution_count": 45,
   "id": "ddbb5ac0",
   "metadata": {
    "scrolled": true
   },
   "outputs": [
    {
     "data": {
      "text/plain": [
       "<seaborn.axisgrid.FacetGrid at 0x2a2a950ff10>"
      ]
     },
     "execution_count": 45,
     "metadata": {},
     "output_type": "execute_result"
    },
    {
     "data": {
      "image/png": "[encoded data removed]",
      "text/plain": [
       "<Figure size 454.875x360 with 1 Axes>"
      ]
     },
     "metadata": {
      "needs_background": "light"
     },
     "output_type": "display_data"
    }
   ],
   "source": [
    "\n",
    "sns.displot(data=auto, x=\"Número de Apólices\", hue=\"Estado\", multiple=\"stack\")"
   ]
  },
  {
   "cell_type": "code",
   "execution_count": null,
   "id": "68892882",
   "metadata": {},
   "outputs": [],
   "source": [
    "#Exportando o resultado para o excel\n",
    "nome_arquivo = 'saidaauto1.xlsx'\n",
    "auto .to_csv(nome_arquivo)\n",
    "print('DataFrame exportado com sucesso.')"
   ]
  }
 ],
 "metadata": {
  "kernelspec": {
   "display_name": "Python 3 (ipykernel)",
   "language": "python",
   "name": "python3"
  },
  "language_info": {
   "codemirror_mode": {
    "name": "ipython",
    "version": 3
   },
   "file_extension": ".py",
   "mimetype": "text/x-python",
   "name": "python",
   "nbconvert_exporter": "python",
   "pygments_lexer": "ipython3",
   "version": "3.9.7"
  }
 },
 "nbformat": 4,
 "nbformat_minor": 5
}
